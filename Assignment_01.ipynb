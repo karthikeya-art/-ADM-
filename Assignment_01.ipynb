{
  "nbformat": 4,
  "nbformat_minor": 0,
  "metadata": {
    "colab": {
      "provenance": [],
      "authorship_tag": "ABX9TyNv9flF7ecvRzk9wCwuj05f",
      "include_colab_link": true
    },
    "kernelspec": {
      "name": "python3",
      "display_name": "Python 3"
    },
    "language_info": {
      "name": "python"
    }
  },
  "cells": [
    {
      "cell_type": "markdown",
      "metadata": {
        "id": "view-in-github",
        "colab_type": "text"
      },
      "source": [
        "<a href=\"https://colab.research.google.com/github/karthikeya-art/-ADM-/blob/main/Assignment_01.ipynb\" target=\"_parent\"><img src=\"https://colab.research.google.com/assets/colab-badge.svg\" alt=\"Open In Colab\"/></a>"
      ]
    },
    {
      "cell_type": "code",
      "execution_count": 4,
      "metadata": {
        "colab": {
          "base_uri": "https://localhost:8080/"
        },
        "id": "_EF9loNDa_nN",
        "outputId": "244d3978-7f53-440d-ed9d-cffea9ce39e9"
      },
      "outputs": [
        {
          "output_type": "stream",
          "name": "stdout",
          "text": [
            "     Pregnancies  Glucose  BloodPressure  SkinThickness  Insulin   BMI  \\\n",
            "0              6      148             72             35        0  33.6   \n",
            "1              1       85             66             29        0  26.6   \n",
            "2              8      183             64              0        0  23.3   \n",
            "3              1       89             66             23       94  28.1   \n",
            "4              0      137             40             35      168  43.1   \n",
            "..           ...      ...            ...            ...      ...   ...   \n",
            "763           10      101             76             48      180  32.9   \n",
            "764            2      122             70             27        0  36.8   \n",
            "765            5      121             72             23      112  26.2   \n",
            "766            1      126             60              0        0  30.1   \n",
            "767            1       93             70             31        0  30.4   \n",
            "\n",
            "     DiabetesPedigreeFunction  Age  Outcome  \n",
            "0                       0.627   50        1  \n",
            "1                       0.351   31        0  \n",
            "2                       0.672   32        1  \n",
            "3                       0.167   21        0  \n",
            "4                       2.288   33        1  \n",
            "..                        ...  ...      ...  \n",
            "763                     0.171   63        0  \n",
            "764                     0.340   27        0  \n",
            "765                     0.245   30        0  \n",
            "766                     0.349   47        1  \n",
            "767                     0.315   23        0  \n",
            "\n",
            "[768 rows x 9 columns]\n"
          ]
        }
      ],
      "source": [
        "import pandas as pd\n",
        "df=pd.read_csv('/diabetes.csv')\n",
        "print(df)"
      ]
    },
    {
      "cell_type": "code",
      "source": [
        "import pandas as pd\n",
        "df = pd.read_csv('/diabetes.csv')\n",
        "print(\"Missing values before imputation:\")\n",
        "print(df.isnull().sum())\n",
        "for column in df.select_dtypes(include=['float64', 'int64']).columns:\n",
        "    df[column].fillna(df[column].mean(), inplace=True)\n",
        "for column in df.select_dtypes(include=['object']).columns:\n",
        "    df[column].fillna(df[column].mode()[0], inplace=True)\n",
        "print(\"\\nMissing values after imputation:\")\n",
        "print(df.isnull().sum())"
      ],
      "metadata": {
        "colab": {
          "base_uri": "https://localhost:8080/"
        },
        "id": "WGcYCkPslbPi",
        "outputId": "af2a557a-054c-4b47-e7c6-fb7abe2fc480"
      },
      "execution_count": 14,
      "outputs": [
        {
          "output_type": "stream",
          "name": "stdout",
          "text": [
            "Missing values before imputation:\n",
            "Pregnancies                 0\n",
            "Glucose                     0\n",
            "BloodPressure               0\n",
            "SkinThickness               0\n",
            "Insulin                     0\n",
            "BMI                         0\n",
            "DiabetesPedigreeFunction    0\n",
            "Age                         0\n",
            "Outcome                     0\n",
            "dtype: int64\n",
            "\n",
            "Missing values after imputation:\n",
            "Pregnancies                 0\n",
            "Glucose                     0\n",
            "BloodPressure               0\n",
            "SkinThickness               0\n",
            "Insulin                     0\n",
            "BMI                         0\n",
            "DiabetesPedigreeFunction    0\n",
            "Age                         0\n",
            "Outcome                     0\n",
            "dtype: int64\n"
          ]
        },
        {
          "output_type": "stream",
          "name": "stderr",
          "text": [
            "<ipython-input-14-9f62b626e2e1>:6: FutureWarning: A value is trying to be set on a copy of a DataFrame or Series through chained assignment using an inplace method.\n",
            "The behavior will change in pandas 3.0. This inplace method will never work because the intermediate object on which we are setting values always behaves as a copy.\n",
            "\n",
            "For example, when doing 'df[col].method(value, inplace=True)', try using 'df.method({col: value}, inplace=True)' or df[col] = df[col].method(value) instead, to perform the operation inplace on the original object.\n",
            "\n",
            "\n",
            "  df[column].fillna(df[column].mean(), inplace=True)\n"
          ]
        }
      ]
    },
    {
      "cell_type": "code",
      "source": [
        "import pandas as pd\n",
        "from sklearn.preprocessing import MinMaxScaler, StandardScaler\n",
        "df = pd.read_csv('/diabetes.csv')\n",
        "numerical_cols = df.select_dtypes(include=['float64', 'int64']).columns.tolist()\n",
        "print(\"Original Data:\")\n",
        "print(df[numerical_cols].head())\n",
        "min_max_scaler = MinMaxScaler()\n",
        "df_min_max_scaled = df.copy()\n",
        "df_min_max_scaled[numerical_cols] = min_max_scaler.fit_transform(df[numerical_cols])\n",
        "print(\"\\nMin-Max Normalized Data:\")\n",
        "print(df_min_max_scaled[numerical_cols].head())\n",
        "standard_scaler = StandardScaler()\n",
        "df_standardized = df.copy()\n",
        "df_standardized[numerical_cols] = standard_scaler.fit_transform(df[numerical_cols])\n",
        "print(\"\\nStandardized Data:\")\n",
        "print(df_standardized[numerical_cols].head())"
      ],
      "metadata": {
        "colab": {
          "base_uri": "https://localhost:8080/"
        },
        "id": "BwPYvdUOxsZg",
        "outputId": "e4708255-3411-4ec1-8be4-05a5dcd82cfd"
      },
      "execution_count": 17,
      "outputs": [
        {
          "output_type": "stream",
          "name": "stdout",
          "text": [
            "Original Data:\n",
            "   Pregnancies  Glucose  BloodPressure  SkinThickness  Insulin   BMI  \\\n",
            "0            6      148             72             35        0  33.6   \n",
            "1            1       85             66             29        0  26.6   \n",
            "2            8      183             64              0        0  23.3   \n",
            "3            1       89             66             23       94  28.1   \n",
            "4            0      137             40             35      168  43.1   \n",
            "\n",
            "   DiabetesPedigreeFunction  Age  Outcome  \n",
            "0                     0.627   50        1  \n",
            "1                     0.351   31        0  \n",
            "2                     0.672   32        1  \n",
            "3                     0.167   21        0  \n",
            "4                     2.288   33        1  \n",
            "\n",
            "Min-Max Normalized Data:\n",
            "   Pregnancies   Glucose  BloodPressure  SkinThickness   Insulin       BMI  \\\n",
            "0     0.352941  0.743719       0.590164       0.353535  0.000000  0.500745   \n",
            "1     0.058824  0.427136       0.540984       0.292929  0.000000  0.396423   \n",
            "2     0.470588  0.919598       0.524590       0.000000  0.000000  0.347243   \n",
            "3     0.058824  0.447236       0.540984       0.232323  0.111111  0.418778   \n",
            "4     0.000000  0.688442       0.327869       0.353535  0.198582  0.642325   \n",
            "\n",
            "   DiabetesPedigreeFunction       Age  Outcome  \n",
            "0                  0.234415  0.483333      1.0  \n",
            "1                  0.116567  0.166667      0.0  \n",
            "2                  0.253629  0.183333      1.0  \n",
            "3                  0.038002  0.000000      0.0  \n",
            "4                  0.943638  0.200000      1.0  \n",
            "\n",
            "Standardized Data:\n",
            "   Pregnancies   Glucose  BloodPressure  SkinThickness   Insulin       BMI  \\\n",
            "0     0.639947  0.848324       0.149641       0.907270 -0.692891  0.204013   \n",
            "1    -0.844885 -1.123396      -0.160546       0.530902 -0.692891 -0.684422   \n",
            "2     1.233880  1.943724      -0.263941      -1.288212 -0.692891 -1.103255   \n",
            "3    -0.844885 -0.998208      -0.160546       0.154533  0.123302 -0.494043   \n",
            "4    -1.141852  0.504055      -1.504687       0.907270  0.765836  1.409746   \n",
            "\n",
            "   DiabetesPedigreeFunction       Age   Outcome  \n",
            "0                  0.468492  1.425995  1.365896  \n",
            "1                 -0.365061 -0.190672 -0.732120  \n",
            "2                  0.604397 -0.105584  1.365896  \n",
            "3                 -0.920763 -1.041549 -0.732120  \n",
            "4                  5.484909 -0.020496  1.365896  \n"
          ]
        }
      ]
    }
  ]
}